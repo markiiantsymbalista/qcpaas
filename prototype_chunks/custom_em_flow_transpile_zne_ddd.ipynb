{
 "cells": [
  {
   "cell_type": "code",
   "execution_count": 48,
   "metadata": {},
   "outputs": [],
   "source": [
    "import qiskit\n",
    "import numpy as np\n",
    "\n",
    "from qiskit_aer import AerSimulator\n",
    "from qiskit.providers import fake_provider\n",
    "from qiskit import QuantumCircuit\n",
    "from mitiq import zne, ddd\n",
    "from mitiq.interface.mitiq_qiskit.qiskit_utils import initialized_depolarizing_noise"
   ]
  },
  {
   "cell_type": "code",
   "execution_count": 49,
   "metadata": {},
   "outputs": [
    {
     "name": "stdout",
     "output_type": "stream",
     "text": [
      "        ┌───┐┌──────────┐      ┌──────────┐┌─────────┐ ░ ┌─┐   \n",
      "   q_0: ┤ H ├┤ Rz(1.75) ├──■───┤ Rz(3.23) ├┤ Rx(π/2) ├─░─┤M├───\n",
      "        ├───┤├──────────┤┌─┴─┐┌┴──────────┤├─────────┤ ░ └╥┘┌─┐\n",
      "   q_1: ┤ H ├┤ Rz(2.31) ├┤ X ├┤ Rz(-1.17) ├┤ Rx(π/2) ├─░──╫─┤M├\n",
      "        └───┘└──────────┘└───┘└───────────┘└─────────┘ ░  ║ └╥┘\n",
      "meas: 2/══════════════════════════════════════════════════╩══╩═\n",
      "                                                          0  1 \n"
     ]
    }
   ],
   "source": [
    "a, b = 0, 1  \n",
    "circuit = QuantumCircuit(2)\n",
    "circuit.h(a)\n",
    "circuit.h(b)\n",
    "circuit.rz(1.75, a)\n",
    "circuit.rz(2.31, b)\n",
    "circuit.cx(a, b)\n",
    "circuit.rz(-1.17, b)\n",
    "circuit.rz(3.23, a)\n",
    "circuit.rx(np.pi / 2, a)\n",
    "circuit.rx(np.pi / 2, b)\n",
    "circuit.measure_all()\n",
    "print(circuit)\n",
    "\n",
    "backend_name = getattr(fake_provider, \"FakeKolkata\")()\n",
    "backend = AerSimulator.from_backend(backend_name)\n",
    "\n",
    "noise_level=0.01\n",
    "number_of_shots = 8192\n",
    "\n",
    "def executor(circuit: QuantumCircuit, noise_level = noise_level) -> float:\n",
    "    noise_model = initialized_depolarizing_noise(noise_level=noise_level)\n",
    "    job = qiskit.execute(\n",
    "        experiments=circuit,\n",
    "        backend=backend,\n",
    "        noise_model=noise_model,\n",
    "        basis_gates=noise_model.basis_gates,\n",
    "        optimization_level=0,# Important to preserve folded gates.\n",
    "        shots=number_of_shots,\n",
    "    )\n",
    "    counts = job.result().get_counts()\n",
    "\n",
    "    zero_prob = counts.get(\"0\"*circuit.num_qubits, 0)/number_of_shots\n",
    "    \n",
    "    return zero_prob\n",
    "    # expectation_value = 0\n",
    "    # for measurement, count in counts.items():\n",
    "    #     parity = sum(int(bit) for bit in measurement) % 2 \n",
    "    #     if parity == 0:\n",
    "    #         expectation_value += count /  number_of_shots\n",
    "    #     else:\n",
    "    #         expectation_value -= count / number_of_shots\n",
    "    \n",
    "    # return expectation_value\n",
    "\n",
    "noisy_value = executor(circuit)\n",
    "ideal_value = executor(circuit, noise_level=0.0)"
   ]
  },
  {
   "cell_type": "code",
   "execution_count": 50,
   "metadata": {},
   "outputs": [
    {
     "name": "stdout",
     "output_type": "stream",
     "text": [
      "Error without mitigation: 0.02271\n",
      "Error with mitigation (ZNE): 0.03271\n"
     ]
    }
   ],
   "source": [
    "mitigated = zne.execute_with_zne(circuit, executor)\n",
    "\n",
    "print(f\"Error without mitigation: {abs(ideal_value - noisy_value) :.5f}\")\n",
    "print(f\"Error with mitigation (ZNE): {abs(ideal_value - mitigated):.5f}\")"
   ]
  },
  {
   "cell_type": "code",
   "execution_count": 51,
   "metadata": {},
   "outputs": [
    {
     "name": "stdout",
     "output_type": "stream",
     "text": [
      "Error without mitigation-----------------------------------: 0.02271\n",
      "Error with mitigation (transpile + ZNE (DDD in the middle)): 0.00471\n"
     ]
    }
   ],
   "source": [
    "#custom flow that allows transpile circuit, generate noise scaled circuits, run DDD on each of them and later extrapolate\n",
    "transpiled_circuit = qiskit.transpile(circuit)\n",
    "\n",
    "scale_factors = [1.0, 3.0, 5.0]\n",
    "noise_scaled_circuits = [zne.scaling.fold_gates_at_random(transpiled_circuit, s) for s in scale_factors]\n",
    "\n",
    "#start ddd\n",
    "rule = ddd.rules.yy\n",
    "ddd_mitigated_values = [ddd.execute_with_ddd(circuit=c, executor=executor, rule=rule) for c in noise_scaled_circuits]\n",
    "#end ddd\n",
    "\n",
    "#assuming an infinite noise limit of 0.5\n",
    "fac = zne.inference.ExpFactory(scale_factors, asymptote=0.5)\n",
    "for s, e in zip(scale_factors, ddd_mitigated_values):\n",
    "    fac.push({\"scale_factor\": s}, e)\n",
    "reduced_result = fac.reduce()\n",
    "\n",
    "#results check\n",
    "print(f\"Error without mitigation-----------------------------------: {abs(ideal_value - noisy_value) :.5f}\")\n",
    "print(f\"Error with mitigation (transpile + ZNE (DDD in the middle)): {abs(ideal_value - reduced_result):.5f}\")\n",
    "\n"
   ]
  }
 ],
 "metadata": {
  "kernelspec": {
   "display_name": ".venv",
   "language": "python",
   "name": "python3"
  },
  "language_info": {
   "codemirror_mode": {
    "name": "ipython",
    "version": 3
   },
   "file_extension": ".py",
   "mimetype": "text/x-python",
   "name": "python",
   "nbconvert_exporter": "python",
   "pygments_lexer": "ipython3",
   "version": "3.11.7"
  }
 },
 "nbformat": 4,
 "nbformat_minor": 2
}
